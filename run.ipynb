{
 "cells": [
  {
   "cell_type": "code",
   "execution_count": 111,
   "metadata": {},
   "outputs": [],
   "source": [
    "#Imports\n",
    "import pandas as pd\n",
    "from itertools import product"
   ]
  },
  {
   "cell_type": "code",
   "execution_count": 112,
   "metadata": {},
   "outputs": [],
   "source": [
    "# Constants for points\n",
    "WIN_POINTS = 3\n",
    "TIE_POINTS = 1\n",
    "LOSS_POINTS = 0\n",
    "\n",
    "# Division 1 current score\n",
    "current_scores = {\n",
    "    'Grizzled Gamblers': 7,  # Replace these with actual starting scores\n",
    "    'Zephyr Loch Ness Monsters': 5,\n",
    "    'Dorans Lars de Vries': 3,\n",
    "    'Duivelsei Academy': 2,\n",
    "    'Zephyr Kratos': 1,\n",
    "    'Green Tea Love': 1,\n",
    "    'Esports Team Twente': 1\n",
    "}\n",
    "\n",
    "# # Division 2 current score\n",
    "# current_scores = {\n",
    "#     'Iron Bucket Boys': 5,  # Replace these with actual starting scores\n",
    "#     'Blitzfrank': 5,\n",
    "#     'Zephyr Shiva': 5,\n",
    "#     'Peritan the Platypus': 4,\n",
    "#     'Zephyr Hydra': 4,\n",
    "#     'TSEA Link Reborn': 0\n",
    "# }\n",
    "\n",
    "# # Division 3 current score\n",
    "# current_scores = {\n",
    "#     'Zephyr Odysseus': 9,  # Replace these with actual starting scores\n",
    "#     'BS Scaling': 5,\n",
    "#     'U-Padvinders': 3,\n",
    "#     'Dorans Dirty Little Animals': 2,\n",
    "#     'BS Happy Hour': 2,\n",
    "#     'DEI 4Fun Boomers': 1\n",
    "# }\n",
    "\n",
    "# Division 4 current score\n",
    "# current_scores = {\n",
    "#     'Ignite Green': 9,  # Replace these with actual starting scores\n",
    "#     'Zephyr Ouroboros': 6,\n",
    "#     'Zephyr Kerberos': 4,\n",
    "#     'Infinite Spirits': 3,\n",
    "#     'Boosted Chickens': 3,\n",
    "#     'TSEA Pink Wards': 1\n",
    "# }\n",
    "\n",
    "# # Division 5 current score\n",
    "# current_scores = {\n",
    "#     'Dorans WDATCKG': 9,  # Replace these with actual starting scores\n",
    "#     'Boosted Kittens': 6,\n",
    "#     'Ignite Purple': 4,\n",
    "#     'TSEA Link Happy Dumplings': 3,\n",
    "#     'Infinite Pixels': 3,\n",
    "#     'Ignite Diamond': 1\n",
    "# }\n",
    "\n",
    "file_location = 'Division 1.xlsx'"
   ]
  },
  {
   "cell_type": "code",
   "execution_count": 113,
   "metadata": {},
   "outputs": [],
   "source": [
    "def read_matches(file_path):\n",
    "    df = pd.read_excel(file_path)\n",
    "    return [(row['Team1'], row['Team2']) for index, row in df.iterrows()]"
   ]
  },
  {
   "cell_type": "code",
   "execution_count": 114,
   "metadata": {},
   "outputs": [],
   "source": [
    "def simulate_matches(matches, current_scores):\n",
    "    outcomes = list(product([WIN_POINTS, TIE_POINTS, LOSS_POINTS], repeat=len(matches)))\n",
    "    standings = []\n",
    "    for outcome in outcomes:\n",
    "        scores = current_scores.copy()\n",
    "        for i, match in enumerate(matches):\n",
    "            team1, team2 = match\n",
    "            result = outcome[i]\n",
    "            if result == WIN_POINTS:\n",
    "                scores[team1] += WIN_POINTS\n",
    "            elif result == TIE_POINTS:\n",
    "                scores[team1] += TIE_POINTS\n",
    "                scores[team2] += TIE_POINTS\n",
    "            elif result == LOSS_POINTS:\n",
    "                scores[team2] += WIN_POINTS\n",
    "        standings.append(scores)\n",
    "    return standings"
   ]
  },
  {
   "cell_type": "code",
   "execution_count": 115,
   "metadata": {},
   "outputs": [],
   "source": [
    "def determine_top_teams(standings, num_teams):\n",
    "    position_totals = {team: 0 for team in standings[0]}\n",
    "    top4_counts = {team: 0 for team in standings[0]}\n",
    "    total_scenarios = len(standings)\n",
    "\n",
    "    for scenario in standings:\n",
    "        sorted_scenario = sorted(scenario.items(), key=lambda item: item[1], reverse=True)\n",
    "        for position, (team, _) in enumerate(sorted_scenario, start=1):\n",
    "            position_totals[team] += position\n",
    "            if position <= num_teams:\n",
    "                top4_counts[team] += 1\n",
    "\n",
    "    average_positions = {team: total / total_scenarios for team, total in position_totals.items()}\n",
    "    top4_percentages = {team: (count / total_scenarios) * 100 for team, count in top4_counts.items()}\n",
    "\n",
    "    return average_positions, top4_percentages"
   ]
  },
  {
   "cell_type": "code",
   "execution_count": 116,
   "metadata": {},
   "outputs": [
    {
     "name": "stdout",
     "output_type": "stream",
     "text": [
      "Average Finishing Positions:\n",
      "Grizzled Gamblers: 1.77\n",
      "Zephyr Loch Ness Monsters: 2.95\n",
      "Dorans Lars de Vries: 3.58\n",
      "Duivelsei Academy: 4.35\n",
      "Zephyr Kratos: 5.04\n",
      "Green Tea Love: 5.11\n",
      "Esports Team Twente: 5.22\n",
      "\n",
      "Percentage of Times\n",
      "Grizzled Gamblers: 97.43%\n",
      "Zephyr Loch Ness Monsters: 83.26%\n",
      "Dorans Lars de Vries: 69.15%\n",
      "Duivelsei Academy: 52.03%\n",
      "Zephyr Kratos: 35.05%\n",
      "Green Tea Love: 32.27%\n",
      "Esports Team Twente: 30.81%\n"
     ]
    }
   ],
   "source": [
    "def main(file_path, top_x, current_scores):\n",
    "    matches = read_matches(file_path)\n",
    "    all_standings = simulate_matches(matches, current_scores)\n",
    "    average_positions, top4_percentages = determine_top_teams(all_standings, top_x)\n",
    "\n",
    "    # Output average positions and top 4 percentages\n",
    "    print(\"Average Finishing Positions:\")\n",
    "    for team, avg_position in average_positions.items():\n",
    "        print(f\"{team}: {round(avg_position,2)}\")\n",
    "\n",
    "    print(\"\\nPercentage of Times\")\n",
    "    for team, percentage in top4_percentages.items():\n",
    "        print(f\"{team}: {round(percentage,2)}%\")\n",
    "\n",
    "main(file_location, 4, current_scores)\n"
   ]
  }
 ],
 "metadata": {
  "kernelspec": {
   "display_name": "base",
   "language": "python",
   "name": "python3"
  },
  "language_info": {
   "codemirror_mode": {
    "name": "ipython",
    "version": 3
   },
   "file_extension": ".py",
   "mimetype": "text/x-python",
   "name": "python",
   "nbconvert_exporter": "python",
   "pygments_lexer": "ipython3",
   "version": "3.11.7"
  }
 },
 "nbformat": 4,
 "nbformat_minor": 2
}
